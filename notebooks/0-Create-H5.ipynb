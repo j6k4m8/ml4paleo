{
 "cells": [
  {
   "cell_type": "code",
   "execution_count": 1,
   "metadata": {},
   "outputs": [],
   "source": [
    "import numpy as np\n",
    "from PIL import Image\n",
    "from pathlib import Path\n",
    "from tqdm.notebook import tqdm\n",
    "import h5py"
   ]
  },
  {
   "cell_type": "code",
   "execution_count": 2,
   "metadata": {},
   "outputs": [],
   "source": [
    "PATHS_TO_STACKS = {\n",
    "    \"Gills\": Path(\"../box/coregistered/Gills/\"),\n",
    "    \"Tektites\": Path(\"../box/coregistered/Tektites/\"),\n",
    "    \"Rock\": Path(\"../box/coregistered/Rock/\"),\n",
    "}"
   ]
  },
  {
   "cell_type": "code",
   "execution_count": 5,
   "metadata": {},
   "outputs": [],
   "source": [
    "def stack_to_dataset(path_to_glob: Path, ext: str = \"tif\", progress: bool = True) -> np.ndarray:\n",
    "    \"\"\"\n",
    "    Read in a stack of images and convert to a 3D numpy array.\n",
    "    \"\"\"\n",
    "    ext = ext.strip()\n",
    "    if ext.startswith(\".\"):\n",
    "        ext = ext[1:]\n",
    "    _prog = tqdm if progress else lambda x: x\n",
    "    imgs = [np.array(Image.open(img)) for img in _prog(list(sorted(Path(path_to_glob).glob(f\"*.{ext}\"))))]\n",
    "    return np.stack(imgs)\n"
   ]
  },
  {
   "cell_type": "code",
   "execution_count": 6,
   "metadata": {},
   "outputs": [
    {
     "data": {
      "application/vnd.jupyter.widget-view+json": {
       "model_id": "d755afd73bb54b28acca57d7365a37eb",
       "version_major": 2,
       "version_minor": 0
      },
      "text/plain": [
       "  0%|          | 0/1700 [00:00<?, ?it/s]"
      ]
     },
     "metadata": {},
     "output_type": "display_data"
    },
    {
     "data": {
      "application/vnd.jupyter.widget-view+json": {
       "model_id": "d5f2813cc566428f9070cef66588bda3",
       "version_major": 2,
       "version_minor": 0
      },
      "text/plain": [
       "  0%|          | 0/1700 [00:00<?, ?it/s]"
      ]
     },
     "metadata": {},
     "output_type": "display_data"
    },
    {
     "data": {
      "application/vnd.jupyter.widget-view+json": {
       "model_id": "9cb6c2c6f33a4fd5b08ffeea63c89111",
       "version_major": 2,
       "version_minor": 0
      },
      "text/plain": [
       "  0%|          | 0/1700 [00:00<?, ?it/s]"
      ]
     },
     "metadata": {},
     "output_type": "display_data"
    }
   ],
   "source": [
    "datasets = {\n",
    "    name: stack_to_dataset(path_to_glob)\n",
    "    for name, path_to_glob in PATHS_TO_STACKS.items()\n",
    "}"
   ]
  },
  {
   "cell_type": "code",
   "execution_count": 7,
   "metadata": {},
   "outputs": [],
   "source": [
    "# Save the datasets as hdf5 channels:\n",
    "!mkdir -p ../data\n",
    "for name, dataset in datasets.items():\n",
    "    with h5py.File(f\"../data/{name}.hdf5\", \"w\") as f:\n",
    "        f.create_dataset(\"data\", data=(dataset > dataset.min()), dtype=bool, compression=\"gzip\")"
   ]
  },
  {
   "cell_type": "code",
   "execution_count": 7,
   "metadata": {},
   "outputs": [
    {
     "data": {
      "application/vnd.jupyter.widget-view+json": {
       "model_id": "13855e3ce57d4f97ab48a5d145c4758c",
       "version_major": 2,
       "version_minor": 0
      },
      "text/plain": [
       "  0%|          | 0/1700 [00:00<?, ?it/s]"
      ]
     },
     "metadata": {},
     "output_type": "display_data"
    }
   ],
   "source": [
    "images = stack_to_dataset(Path(\"../box/HA-900_13.67_Paddle-fish-Tanis_colA-2_pag-0.35_2.14_jp2-10_bin2_\"), \"jp2\")"
   ]
  },
  {
   "cell_type": "code",
   "execution_count": 8,
   "metadata": {},
   "outputs": [
    {
     "data": {
      "text/plain": [
       "(1700, 1915, 1915)"
      ]
     },
     "execution_count": 8,
     "metadata": {},
     "output_type": "execute_result"
    }
   ],
   "source": [
    "images.shape"
   ]
  },
  {
   "cell_type": "code",
   "execution_count": 9,
   "metadata": {},
   "outputs": [],
   "source": [
    "with h5py.File(\"../data/images.hdf5\", \"w\") as f:\n",
    "    f.create_dataset(\"data\", data=images, compression=\"gzip\")"
   ]
  },
  {
   "cell_type": "code",
   "execution_count": null,
   "metadata": {},
   "outputs": [],
   "source": []
  }
 ],
 "metadata": {
  "interpreter": {
   "hash": "410f6db90cc89b666adbd1b755ae7555dd227a2d7c11822f3d377845b87672a4"
  },
  "kernelspec": {
   "display_name": "Python 3.9.7 64-bit ('scripting')",
   "language": "python",
   "name": "python3"
  },
  "language_info": {
   "codemirror_mode": {
    "name": "ipython",
    "version": 3
   },
   "file_extension": ".py",
   "mimetype": "text/x-python",
   "name": "python",
   "nbconvert_exporter": "python",
   "pygments_lexer": "ipython3",
   "version": "3.9.7"
  },
  "orig_nbformat": 4
 },
 "nbformat": 4,
 "nbformat_minor": 2
}
