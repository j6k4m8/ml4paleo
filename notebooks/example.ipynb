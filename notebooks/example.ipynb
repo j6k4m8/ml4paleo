{
 "cells": [
  {
   "cell_type": "code",
   "execution_count": 1,
   "metadata": {},
   "outputs": [],
   "source": [
    "# An example workflow using ml4paleo in a Jupyter notebook"
   ]
  },
  {
   "cell_type": "code",
   "execution_count": 1,
   "metadata": {},
   "outputs": [],
   "source": [
    "import pathlib\n",
    "import numpy as np\n",
    "from intern.utils.parallel import block_compute\n",
    "import matplotlib.pyplot as plt\n",
    "from joblib import Parallel, delayed\n",
    "import tqdm\n",
    "\n",
    "from ml4paleo.volume_providers import ImageStackVolumeProvider, ZarrVolumeProvider\n",
    "from ml4paleo.volume_providers.io import export_zarr_array\n",
    "from ml4paleo.segmentation import segment_volume_to_zarr, RandomForest3DSegmenter"
   ]
  },
  {
   "cell_type": "code",
   "execution_count": null,
   "metadata": {},
   "outputs": [],
   "source": [
    "PATH_TO_IMAGE_STACK = pathlib.Path('data/image_stack')\n",
    "IMAGE_GLOB = '*.tif'\n",
    "\n",
    "PATH_TO_ZARR = pathlib.Path('data/zarr')\n",
    "PATH_TO_ZARR.mkdir(exist_ok=True)\n",
    "\n",
    "PATH_TO_SEG = pathlib.Path('data/seg')\n",
    "PATH_TO_SEG.mkdir(exist_ok=True)"
   ]
  },
  {
   "cell_type": "code",
   "execution_count": 2,
   "metadata": {},
   "outputs": [],
   "source": [
    "# Train the RF:\n",
    "\n",
    "# TODO:"
   ]
  },
  {
   "cell_type": "code",
   "execution_count": 3,
   "metadata": {},
   "outputs": [
    {
     "ename": "NameError",
     "evalue": "name 'PATH_TO_IMAGE_STACK' is not defined",
     "output_type": "error",
     "traceback": [
      "\u001b[0;31m---------------------------------------------------------------------------\u001b[0m",
      "\u001b[0;31mNameError\u001b[0m                                 Traceback (most recent call last)",
      "Cell \u001b[0;32mIn[3], line 2\u001b[0m\n\u001b[1;32m      1\u001b[0m \u001b[39m# Load the image stack and then export it to a zarr array\u001b[39;00m\n\u001b[0;32m----> 2\u001b[0m image_stack \u001b[39m=\u001b[39m ImageStackVolumeProvider(PATH_TO_IMAGE_STACK, IMAGE_GLOB)\n\u001b[1;32m      3\u001b[0m export_zarr_array(image_stack, PATH_TO_ZARR, parallel\u001b[39m=\u001b[39m\u001b[39mTrue\u001b[39;00m)\n",
      "\u001b[0;31mNameError\u001b[0m: name 'PATH_TO_IMAGE_STACK' is not defined"
     ]
    }
   ],
   "source": [
    "# Load the image stack and then export it to a zarr array\n",
    "image_stack = ImageStackVolumeProvider(PATH_TO_IMAGE_STACK, IMAGE_GLOB)\n",
    "export_zarr_array(image_stack, PATH_TO_ZARR, parallel=True)"
   ]
  },
  {
   "cell_type": "code",
   "execution_count": null,
   "metadata": {},
   "outputs": [],
   "source": [
    "segment_volume_to_zarr(\n",
    "    ZarrVolumeProvider(PATH_TO_ZARR),\n",
    "    PATH_TO_SEG / 'seg.zarr',\n",
    "    segmenter=RandomForest3DSegmenter(),"
   ]
  }
 ],
 "metadata": {
  "kernelspec": {
   "display_name": ".venv",
   "language": "python",
   "name": "python3"
  },
  "language_info": {
   "codemirror_mode": {
    "name": "ipython",
    "version": 3
   },
   "file_extension": ".py",
   "mimetype": "text/x-python",
   "name": "python",
   "nbconvert_exporter": "python",
   "pygments_lexer": "ipython3",
   "version": "3.9.7"
  },
  "orig_nbformat": 4,
  "vscode": {
   "interpreter": {
    "hash": "d19de0df0c2088788779103eea7e2a9044f7137bd0e8c0fa123dd48f73c4284f"
   }
  }
 },
 "nbformat": 4,
 "nbformat_minor": 2
}
