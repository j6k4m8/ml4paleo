{
 "cells": [
  {
   "attachments": {},
   "cell_type": "markdown",
   "metadata": {},
   "source": [
    "# Upload an image channel and its annotations to BossDB\n",
    "\n",
    "This notebook uses the [intern](https://github.com/jhuapl-boss/intern) Python library to upload an image channel and its annotations to BossDB. The image channel is a 3D volume of 16-bit grayscale data. The annotations are a set of binary masks that are used to define the boundaries of the material types in the image channel. (In this volume, we have segmentation for `rock` and `bone`.)\n",
    "\n",
    "We can use the Z-slice importer built into intern to convert image tiles into a 3D spatial database volume."
   ]
  },
  {
   "cell_type": "code",
   "execution_count": null,
   "metadata": {},
   "outputs": [],
   "source": [
    "# To point to the images on disk:\n",
    "import pathlib\n",
    "\n",
    "# To perform the upload:\n",
    "from intern.convenience.array import ZSliceIngestJob"
   ]
  },
  {
   "cell_type": "code",
   "execution_count": null,
   "metadata": {},
   "outputs": [],
   "source": [
    "# Here, we define the data products.\n",
    "# The image channel is the only required field. (ANNOTATIONS = [] is valid.)\n",
    "\n",
    "\n",
    "IMAGE =  {\n",
    "    # The channel name to use on BossDB.org (i.e., \n",
    "    # bossdb://collection/experiment/channel).\n",
    "    # For more details on the BossDB ontology, including how to choose a name \n",
    "    # for collections, experiments, and channels, see the documentation on the\n",
    "    # bossdb website (https://bossdb.org/get-started) and the YouTube tutorial\n",
    "    # at (https://youtu.be/gbbfWDThELU?t=82).\n",
    "    \"name\": \"during2022/paddlefish43um/image\",\n",
    "\n",
    "    # The path on disk to the image stack. This should be a folder that has a\n",
    "    # stack of images in it.\n",
    "    \"path\": pathlib.Path(\"data/Paddlefish 43.53 um/Paddlefish scanned at 43.53 um\"),\n",
    "\n",
    "    # The filename pattern to use to find the images. This is a glob, so \"*\" is\n",
    "    # a wildcard. The glob will be applied to the path above, so if \"path\" is\n",
    "    # \"/data/images\" and \"pattern\" is \"*.png\", then the glob will be applied to\n",
    "    # \"/data/images/*.png\". \n",
    "    #\n",
    "    # You can use pattern=\"*\" to upload all files in the directory, or you can\n",
    "    # use a more specific pattern to only upload certain files (e.g., \"*.png\").\n",
    "    #\n",
    "    # Image names should sort in the order that you want them to be uploaded.\n",
    "    # GOOD: [\"image01.png\", \"image02.png\", \"image03.png\", ..., \"image99.png\"]\n",
    "    #       Note the zero-padding to make sorting work.\n",
    "    # BAD:  [\"image1.png\", \"image2.png\", \"image3.png\", ..., \"image99.png\"]\n",
    "    #       This naming convention is bad because \"image10.png\" will sort \n",
    "    #       alphabetically before \"image99.png\".\n",
    "    \"pattern\": \"*.jp2\",\n",
    "\n",
    "    # The datatype of the image to use on BossDB.org. (For more information,\n",
    "    # see the getting-started link above.)\n",
    "    # Valid options for image data are:\n",
    "    #   \"uint8\"\n",
    "    #   \"uint16\"\n",
    "    # Valid options for annotation data are:\n",
    "    #   \"uint32\"\n",
    "    #   \"uint64\"\n",
    "    \"dtype\": \"uint16\",\n",
    "}\n",
    "\n",
    "ANNOTATIONS = [\n",
    "    {\n",
    "        \"name\": \"during2022/paddlefish43um/bone\",\n",
    "        \"path\": pathlib.Path(\"data/Paddlefish 43.53 um/Bones 43.53 um\"),\n",
    "        \"pattern\": \"*.jpg\",\n",
    "        \"dtype\": \"uint64\",\n",
    "    },\n",
    "\n",
    "    {\n",
    "        \"name\": \"during2022/paddlefish43um/rock\",\n",
    "        \"path\": pathlib.Path(\"data/Paddlefish 43.53 um/Rock 43.53 um\"),\n",
    "        \"pattern\": \"*.jpg\",\n",
    "        \"dtype\": \"uint64\",\n",
    "    },\n",
    "]"
   ]
  },
  {
   "attachments": {},
   "cell_type": "markdown",
   "metadata": {},
   "source": [
    "## BossDB Authentication\n",
    "\n",
    "There are two ways to authenticate an ingest with BossDB:\n",
    "1. Use a credentials file (usually stored at `~/.intern/intern.cfg`)\n",
    "2. Specify a token in code\n",
    "\n",
    "### Credentials File\n",
    "\n",
    "The credentials file is a simple text file that contains the following information:\n",
    "\n",
    "```ini\n",
    "[Default]\n",
    "protocol = https\n",
    "host = api.bossdb.io\n",
    "token = <token>\n",
    "```\n",
    "\n",
    "To get your token, go to the [BossDB web portal](https://api.bossdb.io/), log in, and click on your username in the upper right corner. Then click on \"API Token\"... Or click [here](https://api.bossdb.io/v1/mgmt/token).\n",
    "\n",
    "### Token in Code\n",
    "\n",
    "If you don't want to use a credentials file, you can specify the token in code. This is useful if you are running this notebook on a remote server that doesn't have a credentials file.\n",
    "\n",
    "However, you should treat your token like a password: Anyone with your token can impersonate you on BossDB services. For this reason, **it is important to NEVER commit your token to a public codebase or repository**. If you do accidentally share your token, you can revoke it by going to the [BossDB web portal](https://api.bossdb.io/), logging in, clicking on your username in the upper right corner, and clicking on \"API Token\", or by clicking [here](https://api.bossdb.io/v1/mgmt/token).\n",
    "\n",
    "You can specify the same details as in the credentials file in code:\n",
    "\n",
    "```python\n",
    "boss_creds = {\n",
    "    'protocol': 'https',\n",
    "    'host': 'api.bossdb.io',\n",
    "    'token': '<token>'\n",
    "}\n",
    "```\n",
    "\n",
    "When you create a `ZSliceIngestJob` object, you can pass in the credentials dictionary by including it as a `boss_options` argument:\n",
    "\n",
    "```python\n",
    "job = ZSliceIngestJob(\n",
    "    ...,\n",
    "    boss_options=boss_creds\n",
    ")\n",
    "```"
   ]
  },
  {
   "cell_type": "code",
   "execution_count": null,
   "metadata": {},
   "outputs": [],
   "source": [
    "# Create the ingest job. (This will not start the upload yet!)\n",
    "job = ZSliceIngestJob(IMAGE, ANNOTATIONS)"
   ]
  },
  {
   "cell_type": "code",
   "execution_count": null,
   "metadata": {},
   "outputs": [],
   "source": [
    "# Run the upload!\n",
    "# This will show a progress bar for each of the channels (here, three total).\n",
    "# You may see some warnings: as long as the cell completes and the upload() \n",
    "# call returns True, these are safe to ignore.\n",
    "# (Sometimes intermittent network errors cause a chunk of the upload to fail,\n",
    "# but the upload will automatically retry the failed chunks.)\n",
    "job.upload()"
   ]
  },
  {
   "cell_type": "code",
   "execution_count": null,
   "metadata": {},
   "outputs": [],
   "source": []
  }
 ],
 "metadata": {
  "kernelspec": {
   "display_name": "Python 3.9.7 64-bit ('ingest')",
   "language": "python",
   "name": "python3"
  },
  "language_info": {
   "codemirror_mode": {
    "name": "ipython",
    "version": 3
   },
   "file_extension": ".py",
   "mimetype": "text/x-python",
   "name": "python",
   "nbconvert_exporter": "python",
   "pygments_lexer": "ipython3",
   "version": "3.9.7"
  },
  "orig_nbformat": 4,
  "vscode": {
   "interpreter": {
    "hash": "a3384cadf4937b9467be37224baf8daec26f39f886e68d253db6a4810c399754"
   }
  }
 },
 "nbformat": 4,
 "nbformat_minor": 2
}
