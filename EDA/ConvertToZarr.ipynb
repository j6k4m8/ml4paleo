{
 "cells": [
  {
   "cell_type": "code",
   "execution_count": 7,
   "metadata": {},
   "outputs": [],
   "source": [
    "# Convert image stacks to zarr\n",
    "import pathlib\n",
    "\n",
    "import zarr\n",
    "from ml4paleo.volume_providers import ImageStackVolumeProvider\n",
    "import tqdm\n",
    "from numcodecs import Blosc"
   ]
  },
  {
   "cell_type": "code",
   "execution_count": 14,
   "metadata": {},
   "outputs": [],
   "source": [
    "image_path = pathlib.Path(\"/Users/mateljk1/Documents/resources/data/paleo/Pterosaur slices/Araripesaurus\")\n",
    "zarr_path = pathlib.Path(\"Araripesaurus.zarr\", compressor=Blosc(cname='zstd', clevel=1, shuffle=Blosc.SHUFFLE))\n",
    "image_stack = ImageStackVolumeProvider(image_path, \"**/*.jp2\")"
   ]
  },
  {
   "cell_type": "code",
   "execution_count": 15,
   "metadata": {},
   "outputs": [
    {
     "data": {
      "text/plain": [
       "(dtype('uint16'), (3048, 2881, 9022))"
      ]
     },
     "execution_count": 15,
     "metadata": {},
     "output_type": "execute_result"
    }
   ],
   "source": [
    "image_stack[:,:,0].dtype, image_stack.shape"
   ]
  },
  {
   "cell_type": "code",
   "execution_count": null,
   "metadata": {},
   "outputs": [],
   "source": [
    "new_zarr_file = zarr.open(\n",
    "    \"araripesaurus.zarr\",\n",
    "    mode=\"w\",\n",
    "    shape=image_stack.shape,\n",
    "    chunks=(256, 256, 256),\n",
    "    dtype=\"uint16\",\n",
    ")\n",
    "\n",
    "Z_CHUNK = 8\n",
    "BACKGROUND_THRESHOLD = 6000\n",
    "\n",
    "for z_start in tqdm.tqdm(range(0, image_stack.shape[2], Z_CHUNK)):\n",
    "    stack = image_stack[:, :, z_start : z_start + Z_CHUNK]\n",
    "    stack[stack < BACKGROUND_THRESHOLD] = 0\n",
    "    new_zarr_file[:, :, z_start : z_start + Z_CHUNK] = stack\n"
   ]
  }
 ],
 "metadata": {
  "kernelspec": {
   "display_name": ".venv",
   "language": "python",
   "name": "python3"
  },
  "language_info": {
   "codemirror_mode": {
    "name": "ipython",
    "version": 3
   },
   "file_extension": ".py",
   "mimetype": "text/x-python",
   "name": "python",
   "nbconvert_exporter": "python",
   "pygments_lexer": "ipython3",
   "version": "3.9.7"
  },
  "orig_nbformat": 4,
  "vscode": {
   "interpreter": {
    "hash": "d19de0df0c2088788779103eea7e2a9044f7137bd0e8c0fa123dd48f73c4284f"
   }
  }
 },
 "nbformat": 4,
 "nbformat_minor": 2
}
