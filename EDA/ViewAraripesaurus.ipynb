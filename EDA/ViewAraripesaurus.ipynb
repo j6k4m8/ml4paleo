{
 "cells": [
  {
   "cell_type": "code",
   "execution_count": 1,
   "metadata": {},
   "outputs": [],
   "source": [
    "import zarr\n",
    "import pathlib\n",
    "import matplotlib.pyplot as plt\n",
    "\n",
    "from ml4paleo.volume_providers import ImageStackVolumeProvider\n",
    "from ml4paleo.volume_providers.io import export_zarr_array"
   ]
  },
  {
   "cell_type": "code",
   "execution_count": 2,
   "metadata": {},
   "outputs": [],
   "source": [
    "in_volume = ImageStackVolumeProvider(\n",
    "    pathlib.Path(\"/Users/mateljk1/Documents/projects/ml4paleo/data/raw_stacks/Pterosaur slices/Araripesaurus/Araripesaurus_santanae_BSPG-1982-I-90_45.62um_\"),\n",
    "    image_glob=\"**/*.jp2\"\n",
    ")  \n",
    "\n",
    "zarr_path = pathlib.Path(\"../data/Araripesaurus.zarr\")"
   ]
  },
  {
   "cell_type": "code",
   "execution_count": 4,
   "metadata": {},
   "outputs": [
    {
     "name": "stderr",
     "output_type": "stream",
     "text": [
      " 99%|█████████▉| 140/141 [6:13:19<02:39, 159.99s/it]   \n"
     ]
    },
    {
     "ename": "ValueError",
     "evalue": "parameter 'value': expected array with shape (762, 721, 15), got (762, 721, 16)",
     "output_type": "error",
     "traceback": [
      "\u001b[0;31m---------------------------------------------------------------------------\u001b[0m",
      "\u001b[0;31mValueError\u001b[0m                                Traceback (most recent call last)",
      "Cell \u001b[0;32mIn[4], line 3\u001b[0m\n\u001b[1;32m      1\u001b[0m \u001b[39mfrom\u001b[39;00m \u001b[39mnumcodecs\u001b[39;00m \u001b[39mimport\u001b[39;00m Blosc\n\u001b[0;32m----> 3\u001b[0m export_zarr_array(\n\u001b[1;32m      4\u001b[0m     in_volume,\n\u001b[1;32m      5\u001b[0m     zarr_path,\n\u001b[1;32m      6\u001b[0m     downsample_factor\u001b[39m=\u001b[39;49m(\u001b[39m4\u001b[39;49m, \u001b[39m4\u001b[39;49m, \u001b[39m4\u001b[39;49m),\n\u001b[1;32m      7\u001b[0m     dtype\u001b[39m=\u001b[39;49min_volume\u001b[39m.\u001b[39;49mdtype,\n\u001b[1;32m      8\u001b[0m     compression\u001b[39m=\u001b[39;49mBlosc(),\n\u001b[1;32m      9\u001b[0m     chunk_size\u001b[39m=\u001b[39;49m(\u001b[39m256\u001b[39;49m, \u001b[39m256\u001b[39;49m, \u001b[39m256\u001b[39;49m),\n\u001b[1;32m     10\u001b[0m     slice_count\u001b[39m=\u001b[39;49m\u001b[39m64\u001b[39;49m,\n\u001b[1;32m     11\u001b[0m     progress\u001b[39m=\u001b[39;49m\u001b[39mTrue\u001b[39;49;00m,\n\u001b[1;32m     12\u001b[0m \n\u001b[1;32m     13\u001b[0m     \u001b[39m# kwargs to pass to zarr.open\u001b[39;49;00m\n\u001b[1;32m     14\u001b[0m     write_empty_chunks\u001b[39m=\u001b[39;49m\u001b[39mFalse\u001b[39;49;00m,\n\u001b[1;32m     15\u001b[0m )\n",
      "File \u001b[0;32m~/Documents/projects/ml4paleo/ml4paleo/volume_providers/io.py:70\u001b[0m, in \u001b[0;36mexport_zarr_array\u001b[0;34m(volume_provider, zarr_file, downsample_factor, dtype, compression, chunk_size, slice_count, progress, **kwargs)\u001b[0m\n\u001b[1;32m     68\u001b[0m     zstart \u001b[39m=\u001b[39m i\n\u001b[1;32m     69\u001b[0m     zend \u001b[39m=\u001b[39m \u001b[39mmin\u001b[39m(i \u001b[39m+\u001b[39m slice_count, volume_provider\u001b[39m.\u001b[39mshape[\u001b[39m2\u001b[39m])\n\u001b[0;32m---> 70\u001b[0m     zarr_array[\n\u001b[1;32m     71\u001b[0m         :, :, (zstart \u001b[39m/\u001b[39;49m\u001b[39m/\u001b[39;49m downsample_factor[\u001b[39m2\u001b[39;49m]) : (zend \u001b[39m/\u001b[39;49m\u001b[39m/\u001b[39;49m downsample_factor[\u001b[39m2\u001b[39;49m])\n\u001b[1;32m     72\u001b[0m     ] \u001b[39m=\u001b[39m volume_provider[:, :, zstart:zend]\u001b[39m.\u001b[39mastype(dtype, copy\u001b[39m=\u001b[39m\u001b[39mFalse\u001b[39;00m)[\n\u001b[1;32m     73\u001b[0m         :: downsample_factor[\u001b[39m0\u001b[39m], :: downsample_factor[\u001b[39m1\u001b[39m], :: downsample_factor[\u001b[39m2\u001b[39m]\n\u001b[1;32m     74\u001b[0m     ]\n\u001b[1;32m     76\u001b[0m \u001b[39mreturn\u001b[39;00m zarr_array\n",
      "File \u001b[0;32m~/Documents/projects/ml4paleo/.venv/lib/python3.9/site-packages/zarr/core.py:1373\u001b[0m, in \u001b[0;36mArray.__setitem__\u001b[0;34m(self, selection, value)\u001b[0m\n\u001b[1;32m   1371\u001b[0m     \u001b[39mself\u001b[39m\u001b[39m.\u001b[39mvindex[selection] \u001b[39m=\u001b[39m value\n\u001b[1;32m   1372\u001b[0m \u001b[39melse\u001b[39;00m:\n\u001b[0;32m-> 1373\u001b[0m     \u001b[39mself\u001b[39;49m\u001b[39m.\u001b[39;49mset_basic_selection(pure_selection, value, fields\u001b[39m=\u001b[39;49mfields)\n",
      "File \u001b[0;32m~/Documents/projects/ml4paleo/.venv/lib/python3.9/site-packages/zarr/core.py:1468\u001b[0m, in \u001b[0;36mArray.set_basic_selection\u001b[0;34m(self, selection, value, fields)\u001b[0m\n\u001b[1;32m   1466\u001b[0m     \u001b[39mreturn\u001b[39;00m \u001b[39mself\u001b[39m\u001b[39m.\u001b[39m_set_basic_selection_zd(selection, value, fields\u001b[39m=\u001b[39mfields)\n\u001b[1;32m   1467\u001b[0m \u001b[39melse\u001b[39;00m:\n\u001b[0;32m-> 1468\u001b[0m     \u001b[39mreturn\u001b[39;00m \u001b[39mself\u001b[39;49m\u001b[39m.\u001b[39;49m_set_basic_selection_nd(selection, value, fields\u001b[39m=\u001b[39;49mfields)\n",
      "File \u001b[0;32m~/Documents/projects/ml4paleo/.venv/lib/python3.9/site-packages/zarr/core.py:1772\u001b[0m, in \u001b[0;36mArray._set_basic_selection_nd\u001b[0;34m(self, selection, value, fields)\u001b[0m\n\u001b[1;32m   1766\u001b[0m \u001b[39mdef\u001b[39;00m \u001b[39m_set_basic_selection_nd\u001b[39m(\u001b[39mself\u001b[39m, selection, value, fields\u001b[39m=\u001b[39m\u001b[39mNone\u001b[39;00m):\n\u001b[1;32m   1767\u001b[0m     \u001b[39m# implementation of __setitem__ for array with at least one dimension\u001b[39;00m\n\u001b[1;32m   1768\u001b[0m \n\u001b[1;32m   1769\u001b[0m     \u001b[39m# setup indexer\u001b[39;00m\n\u001b[1;32m   1770\u001b[0m     indexer \u001b[39m=\u001b[39m BasicIndexer(selection, \u001b[39mself\u001b[39m)\n\u001b[0;32m-> 1772\u001b[0m     \u001b[39mself\u001b[39;49m\u001b[39m.\u001b[39;49m_set_selection(indexer, value, fields\u001b[39m=\u001b[39;49mfields)\n",
      "File \u001b[0;32m~/Documents/projects/ml4paleo/.venv/lib/python3.9/site-packages/zarr/core.py:1800\u001b[0m, in \u001b[0;36mArray._set_selection\u001b[0;34m(self, indexer, value, fields)\u001b[0m\n\u001b[1;32m   1798\u001b[0m     \u001b[39mif\u001b[39;00m \u001b[39mnot\u001b[39;00m \u001b[39mhasattr\u001b[39m(value, \u001b[39m'\u001b[39m\u001b[39mshape\u001b[39m\u001b[39m'\u001b[39m):\n\u001b[1;32m   1799\u001b[0m         value \u001b[39m=\u001b[39m np\u001b[39m.\u001b[39masanyarray(value, like\u001b[39m=\u001b[39m\u001b[39mself\u001b[39m\u001b[39m.\u001b[39m_meta_array)\n\u001b[0;32m-> 1800\u001b[0m     check_array_shape(\u001b[39m'\u001b[39;49m\u001b[39mvalue\u001b[39;49m\u001b[39m'\u001b[39;49m, value, sel_shape)\n\u001b[1;32m   1802\u001b[0m \u001b[39m# iterate over chunks in range\u001b[39;00m\n\u001b[1;32m   1803\u001b[0m \u001b[39mif\u001b[39;00m \u001b[39mnot\u001b[39;00m \u001b[39mhasattr\u001b[39m(\u001b[39mself\u001b[39m\u001b[39m.\u001b[39mstore, \u001b[39m\"\u001b[39m\u001b[39msetitems\u001b[39m\u001b[39m\"\u001b[39m) \u001b[39mor\u001b[39;00m \u001b[39mself\u001b[39m\u001b[39m.\u001b[39m_synchronizer \u001b[39mis\u001b[39;00m \u001b[39mnot\u001b[39;00m \u001b[39mNone\u001b[39;00m \\\n\u001b[1;32m   1804\u001b[0m    \u001b[39mor\u001b[39;00m \u001b[39many\u001b[39m(\u001b[39mmap\u001b[39m(\u001b[39mlambda\u001b[39;00m x: x \u001b[39m==\u001b[39m \u001b[39m0\u001b[39m, \u001b[39mself\u001b[39m\u001b[39m.\u001b[39mshape)):\n\u001b[1;32m   1805\u001b[0m     \u001b[39m# iterative approach\u001b[39;00m\n",
      "File \u001b[0;32m~/Documents/projects/ml4paleo/.venv/lib/python3.9/site-packages/zarr/util.py:546\u001b[0m, in \u001b[0;36mcheck_array_shape\u001b[0;34m(param, array, shape)\u001b[0m\n\u001b[1;32m    543\u001b[0m     \u001b[39mraise\u001b[39;00m \u001b[39mTypeError\u001b[39;00m(\u001b[39m'\u001b[39m\u001b[39mparameter \u001b[39m\u001b[39m{!r}\u001b[39;00m\u001b[39m: expected an array-like object, got \u001b[39m\u001b[39m{!r}\u001b[39;00m\u001b[39m'\u001b[39m\n\u001b[1;32m    544\u001b[0m                     \u001b[39m.\u001b[39mformat(param, \u001b[39mtype\u001b[39m(array)))\n\u001b[1;32m    545\u001b[0m \u001b[39mif\u001b[39;00m array\u001b[39m.\u001b[39mshape \u001b[39m!=\u001b[39m shape:\n\u001b[0;32m--> 546\u001b[0m     \u001b[39mraise\u001b[39;00m \u001b[39mValueError\u001b[39;00m(\u001b[39m'\u001b[39m\u001b[39mparameter \u001b[39m\u001b[39m{!r}\u001b[39;00m\u001b[39m: expected array with shape \u001b[39m\u001b[39m{!r}\u001b[39;00m\u001b[39m, got \u001b[39m\u001b[39m{!r}\u001b[39;00m\u001b[39m'\u001b[39m\n\u001b[1;32m    547\u001b[0m                      \u001b[39m.\u001b[39mformat(param, shape, array\u001b[39m.\u001b[39mshape))\n",
      "\u001b[0;31mValueError\u001b[0m: parameter 'value': expected array with shape (762, 721, 15), got (762, 721, 16)"
     ]
    }
   ],
   "source": [
    "from numcodecs import Blosc\n",
    "\n",
    "export_zarr_array(\n",
    "    in_volume,\n",
    "    zarr_path,\n",
    "    downsample_factor=(4, 4, 4),\n",
    "    dtype=in_volume.dtype,\n",
    "    compression=Blosc(),\n",
    "    chunk_size=(256, 256, 256),\n",
    "    slice_count=64,\n",
    "    progress=True,\n",
    "\n",
    "    # kwargs to pass to zarr.open\n",
    "    write_empty_chunks=False,\n",
    ")\n"
   ]
  },
  {
   "cell_type": "code",
   "execution_count": null,
   "metadata": {},
   "outputs": [],
   "source": []
  }
 ],
 "metadata": {
  "kernelspec": {
   "display_name": ".venv",
   "language": "python",
   "name": "python3"
  },
  "language_info": {
   "codemirror_mode": {
    "name": "ipython",
    "version": 3
   },
   "file_extension": ".py",
   "mimetype": "text/x-python",
   "name": "python",
   "nbconvert_exporter": "python",
   "pygments_lexer": "ipython3",
   "version": "3.9.7"
  },
  "orig_nbformat": 4,
  "vscode": {
   "interpreter": {
    "hash": "d19de0df0c2088788779103eea7e2a9044f7137bd0e8c0fa123dd48f73c4284f"
   }
  }
 },
 "nbformat": 4,
 "nbformat_minor": 2
}
