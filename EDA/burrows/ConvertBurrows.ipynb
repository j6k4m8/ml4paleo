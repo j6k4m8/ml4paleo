{
 "cells": [
  {
   "cell_type": "code",
   "execution_count": 1,
   "metadata": {},
   "outputs": [],
   "source": [
    "# Convert image stacks to zarr\n",
    "import pathlib\n",
    "\n",
    "import zarr\n",
    "from ml4paleo.volume_providers import ImageStackVolumeProvider\n",
    "import tqdm\n",
    "from numcodecs import Blosc"
   ]
  },
  {
   "cell_type": "code",
   "execution_count": 2,
   "metadata": {},
   "outputs": [],
   "source": [
    "image_path = pathlib.Path(\n",
    "    \"/Volumes/Elements/Burrow full scan BP_1_5558_45.5um_16bits\"\n",
    ")\n",
    "zarr_path = pathlib.Path(\"../data/Burrow_Images.zarr\")\n",
    "image_stack = ImageStackVolumeProvider(image_path, \"**/*.tif\")"
   ]
  },
  {
   "cell_type": "code",
   "execution_count": 3,
   "metadata": {},
   "outputs": [
    {
     "data": {
      "text/plain": [
       "(2524, 3369, 6221)"
      ]
     },
     "execution_count": 3,
     "metadata": {},
     "output_type": "execute_result"
    }
   ],
   "source": [
    "image_stack.shape"
   ]
  },
  {
   "cell_type": "code",
   "execution_count": 8,
   "metadata": {},
   "outputs": [
    {
     "name": "stderr",
     "output_type": "stream",
     "text": [
      "  0%|          | 0/1 [00:08<?, ?it/s]\n"
     ]
    },
    {
     "ename": "KeyboardInterrupt",
     "evalue": "",
     "output_type": "error",
     "traceback": [
      "\u001b[0;31m---------------------------------------------------------------------------\u001b[0m",
      "\u001b[0;31mKeyboardInterrupt\u001b[0m                         Traceback (most recent call last)",
      "Cell \u001b[0;32mIn[8], line 15\u001b[0m\n\u001b[1;32m     12\u001b[0m \u001b[39mfor\u001b[39;00m z_start \u001b[39min\u001b[39;00m tqdm\u001b[39m.\u001b[39mtqdm(\u001b[39mrange\u001b[39m(image_stack\u001b[39m.\u001b[39mshape[\u001b[39m2\u001b[39m] \u001b[39m-\u001b[39m Z_CHUNK,\n\u001b[1;32m     13\u001b[0m                                 image_stack\u001b[39m.\u001b[39mshape[\u001b[39m2\u001b[39m], Z_CHUNK)):    \n\u001b[1;32m     14\u001b[0m     z_max_chunk \u001b[39m=\u001b[39m \u001b[39mmin\u001b[39m(z_start \u001b[39m+\u001b[39m Z_CHUNK, image_stack\u001b[39m.\u001b[39mshape[\u001b[39m2\u001b[39m])\n\u001b[0;32m---> 15\u001b[0m     stack \u001b[39m=\u001b[39m image_stack[:, :, z_start:z_max_chunk][::\u001b[39m4\u001b[39m, ::\u001b[39m4\u001b[39m, ::\u001b[39m4\u001b[39m][:,:\u001b[39m-\u001b[39m\u001b[39m1\u001b[39m,:]\n\u001b[1;32m     16\u001b[0m     downsized_z_start \u001b[39m=\u001b[39m \u001b[39mint\u001b[39m(z_start \u001b[39m/\u001b[39m \u001b[39m4\u001b[39m)\n\u001b[1;32m     17\u001b[0m     downsized_z_max_chunk \u001b[39m=\u001b[39m stack\u001b[39m.\u001b[39mshape[\u001b[39m2\u001b[39m] \u001b[39m+\u001b[39m downsized_z_start\n",
      "File \u001b[0;32m~/Documents/projects/ml4paleo/ml4paleo/volume_providers.py:263\u001b[0m, in \u001b[0;36mImageStackVolumeProvider.__getitem__\u001b[0;34m(self, key)\u001b[0m\n\u001b[1;32m    260\u001b[0m images \u001b[39m=\u001b[39m [\u001b[39mself\u001b[39m\u001b[39m.\u001b[39m_read_image(\u001b[39mself\u001b[39m\u001b[39m.\u001b[39mpaths[z]) \u001b[39mfor\u001b[39;00m z \u001b[39min\u001b[39;00m \u001b[39mrange\u001b[39m(zs[\u001b[39m0\u001b[39m], zs[\u001b[39m1\u001b[39m])]\n\u001b[1;32m    262\u001b[0m \u001b[39m# Return the subvolume.\u001b[39;00m\n\u001b[0;32m--> 263\u001b[0m vol \u001b[39m=\u001b[39m np\u001b[39m.\u001b[39;49mstack(images, axis\u001b[39m=\u001b[39;49m\u001b[39m-\u001b[39;49m\u001b[39m1\u001b[39;49m)\n\u001b[1;32m    264\u001b[0m \u001b[39m# Return the subvolume.\u001b[39;00m\n\u001b[1;32m    265\u001b[0m \u001b[39mreturn\u001b[39;00m vol[xs[\u001b[39m0\u001b[39m] : xs[\u001b[39m1\u001b[39m], ys[\u001b[39m0\u001b[39m] : ys[\u001b[39m1\u001b[39m], :]\n",
      "File \u001b[0;32m<__array_function__ internals>:200\u001b[0m, in \u001b[0;36mstack\u001b[0;34m(*args, **kwargs)\u001b[0m\n",
      "File \u001b[0;32m~/Documents/projects/ml4paleo/.venv/lib/python3.9/site-packages/numpy/core/shape_base.py:471\u001b[0m, in \u001b[0;36mstack\u001b[0;34m(arrays, axis, out, dtype, casting)\u001b[0m\n\u001b[1;32m    469\u001b[0m sl \u001b[39m=\u001b[39m (\u001b[39mslice\u001b[39m(\u001b[39mNone\u001b[39;00m),) \u001b[39m*\u001b[39m axis \u001b[39m+\u001b[39m (_nx\u001b[39m.\u001b[39mnewaxis,)\n\u001b[1;32m    470\u001b[0m expanded_arrays \u001b[39m=\u001b[39m [arr[sl] \u001b[39mfor\u001b[39;00m arr \u001b[39min\u001b[39;00m arrays]\n\u001b[0;32m--> 471\u001b[0m \u001b[39mreturn\u001b[39;00m _nx\u001b[39m.\u001b[39;49mconcatenate(expanded_arrays, axis\u001b[39m=\u001b[39;49maxis, out\u001b[39m=\u001b[39;49mout,\n\u001b[1;32m    472\u001b[0m                        dtype\u001b[39m=\u001b[39;49mdtype, casting\u001b[39m=\u001b[39;49mcasting)\n",
      "File \u001b[0;32m<__array_function__ internals>:200\u001b[0m, in \u001b[0;36mconcatenate\u001b[0;34m(*args, **kwargs)\u001b[0m\n",
      "\u001b[0;31mKeyboardInterrupt\u001b[0m: "
     ]
    }
   ],
   "source": [
    "# new_zarr_file = zarr.open(\n",
    "#     str(zarr_path),\n",
    "#     mode=\"w\",\n",
    "#     shape=[int(i / 4) for i in image_stack.shape],\n",
    "#     chunks=(128, 128, 128),\n",
    "#     dtype=\"uint16\",\n",
    "#     compressor=Blosc()\n",
    "# )\n",
    "\n",
    "Z_CHUNK = 64\n",
    "\n",
    "for z_start in tqdm.tqdm(range(0, image_stack.shape[2], Z_CHUNK)):    \n",
    "    z_max_chunk = min(z_start + Z_CHUNK, image_stack.shape[2])\n",
    "    stack = image_stack[:, :, z_start:z_max_chunk][::4, ::4, ::4][:,:-1,:]\n",
    "    downsized_z_start = int(z_start / 4)\n",
    "    downsized_z_max_chunk = stack.shape[2] + downsized_z_start\n",
    "    new_zarr_file[:, :, downsized_z_start:downsized_z_max_chunk] = stack\n"
   ]
  },
  {
   "cell_type": "code",
   "execution_count": 42,
   "metadata": {},
   "outputs": [],
   "source": [
    "seg_path = pathlib.Path(\"/Users/mateljk1/Documents/projects/ml4paleo/data/Burrow AI ground truth stack\")\n",
    "zarr_seg_path = pathlib.Path(\"../data/Burrow_Segmentation.mip2.zarr\")\n",
    "seg_stack = ImageStackVolumeProvider(seg_path, \"**/*.jpg\", cache_size=7000)\n"
   ]
  },
  {
   "cell_type": "code",
   "execution_count": 43,
   "metadata": {},
   "outputs": [
    {
     "data": {
      "text/plain": [
       "(2524, 3369, 6221)"
      ]
     },
     "execution_count": 43,
     "metadata": {},
     "output_type": "execute_result"
    }
   ],
   "source": [
    "seg_stack.shape"
   ]
  },
  {
   "cell_type": "code",
   "execution_count": 44,
   "metadata": {},
   "outputs": [
    {
     "data": {
      "image/png": "[encoded data removed]",
      "text/plain": [
       "<Figure size 640x480 with 1 Axes>"
      ]
     },
     "metadata": {},
     "output_type": "display_data"
    }
   ],
   "source": [
    "# Histogram:\n",
    "import numpy as np\n",
    "import matplotlib.pyplot as plt\n",
    "plt.hist(np.ravel(seg_stack[:,:,3525]))\n",
    "plt.show()"
   ]
  },
  {
   "cell_type": "code",
   "execution_count": 45,
   "metadata": {},
   "outputs": [],
   "source": [
    "seg_zarr_file = zarr.open(\n",
    "    str(zarr_seg_path),\n",
    "    mode=\"w\",\n",
    "    write_empty_chunks=False,\n",
    "    shape=[int(i / 4) for i in seg_stack.shape],\n",
    "    chunks=(128, 128, 128),\n",
    "    dtype=\"bool\",\n",
    "    compressor=Blosc()\n",
    ")\n"
   ]
  },
  {
   "cell_type": "code",
   "execution_count": 46,
   "metadata": {},
   "outputs": [
    {
     "data": {
      "text/plain": [
       "62"
      ]
     },
     "execution_count": 46,
     "metadata": {},
     "output_type": "execute_result"
    }
   ],
   "source": [
    "seg_stack[:,:,3525].min()"
   ]
  },
  {
   "cell_type": "code",
   "execution_count": 49,
   "metadata": {},
   "outputs": [
    {
     "name": "stderr",
     "output_type": "stream",
     "text": [
      " 98%|█████████▊| 48/49 [11:37<00:14, 14.53s/it]\n"
     ]
    },
    {
     "ename": "ValueError",
     "evalue": "parameter 'value': expected array with shape (631, 842, 19), got (631, 842, 20)",
     "output_type": "error",
     "traceback": [
      "\u001b[0;31m---------------------------------------------------------------------------\u001b[0m",
      "\u001b[0;31mValueError\u001b[0m                                Traceback (most recent call last)",
      "Cell \u001b[0;32mIn[49], line 13\u001b[0m\n\u001b[1;32m     11\u001b[0m stack[stack \u001b[39m<\u001b[39m\u001b[39m=\u001b[39m \u001b[39m200\u001b[39m] \u001b[39m=\u001b[39m \u001b[39m1\u001b[39m\n\u001b[1;32m     12\u001b[0m stack[stack \u001b[39m>\u001b[39m \u001b[39m200\u001b[39m] \u001b[39m=\u001b[39m \u001b[39m0\u001b[39m\n\u001b[0;32m---> 13\u001b[0m seg_zarr_file[:, :, downsized_z_start:downsized_z_max_chunk] \u001b[39m=\u001b[39m stack\n",
      "File \u001b[0;32m~/Documents/projects/ml4paleo/.venv/lib/python3.9/site-packages/zarr/core.py:1373\u001b[0m, in \u001b[0;36mArray.__setitem__\u001b[0;34m(self, selection, value)\u001b[0m\n\u001b[1;32m   1371\u001b[0m     \u001b[39mself\u001b[39m\u001b[39m.\u001b[39mvindex[selection] \u001b[39m=\u001b[39m value\n\u001b[1;32m   1372\u001b[0m \u001b[39melse\u001b[39;00m:\n\u001b[0;32m-> 1373\u001b[0m     \u001b[39mself\u001b[39;49m\u001b[39m.\u001b[39;49mset_basic_selection(pure_selection, value, fields\u001b[39m=\u001b[39;49mfields)\n",
      "File \u001b[0;32m~/Documents/projects/ml4paleo/.venv/lib/python3.9/site-packages/zarr/core.py:1468\u001b[0m, in \u001b[0;36mArray.set_basic_selection\u001b[0;34m(self, selection, value, fields)\u001b[0m\n\u001b[1;32m   1466\u001b[0m     \u001b[39mreturn\u001b[39;00m \u001b[39mself\u001b[39m\u001b[39m.\u001b[39m_set_basic_selection_zd(selection, value, fields\u001b[39m=\u001b[39mfields)\n\u001b[1;32m   1467\u001b[0m \u001b[39melse\u001b[39;00m:\n\u001b[0;32m-> 1468\u001b[0m     \u001b[39mreturn\u001b[39;00m \u001b[39mself\u001b[39;49m\u001b[39m.\u001b[39;49m_set_basic_selection_nd(selection, value, fields\u001b[39m=\u001b[39;49mfields)\n",
      "File \u001b[0;32m~/Documents/projects/ml4paleo/.venv/lib/python3.9/site-packages/zarr/core.py:1772\u001b[0m, in \u001b[0;36mArray._set_basic_selection_nd\u001b[0;34m(self, selection, value, fields)\u001b[0m\n\u001b[1;32m   1766\u001b[0m \u001b[39mdef\u001b[39;00m \u001b[39m_set_basic_selection_nd\u001b[39m(\u001b[39mself\u001b[39m, selection, value, fields\u001b[39m=\u001b[39m\u001b[39mNone\u001b[39;00m):\n\u001b[1;32m   1767\u001b[0m     \u001b[39m# implementation of __setitem__ for array with at least one dimension\u001b[39;00m\n\u001b[1;32m   1768\u001b[0m \n\u001b[1;32m   1769\u001b[0m     \u001b[39m# setup indexer\u001b[39;00m\n\u001b[1;32m   1770\u001b[0m     indexer \u001b[39m=\u001b[39m BasicIndexer(selection, \u001b[39mself\u001b[39m)\n\u001b[0;32m-> 1772\u001b[0m     \u001b[39mself\u001b[39;49m\u001b[39m.\u001b[39;49m_set_selection(indexer, value, fields\u001b[39m=\u001b[39;49mfields)\n",
      "File \u001b[0;32m~/Documents/projects/ml4paleo/.venv/lib/python3.9/site-packages/zarr/core.py:1800\u001b[0m, in \u001b[0;36mArray._set_selection\u001b[0;34m(self, indexer, value, fields)\u001b[0m\n\u001b[1;32m   1798\u001b[0m     \u001b[39mif\u001b[39;00m \u001b[39mnot\u001b[39;00m \u001b[39mhasattr\u001b[39m(value, \u001b[39m'\u001b[39m\u001b[39mshape\u001b[39m\u001b[39m'\u001b[39m):\n\u001b[1;32m   1799\u001b[0m         value \u001b[39m=\u001b[39m np\u001b[39m.\u001b[39masanyarray(value, like\u001b[39m=\u001b[39m\u001b[39mself\u001b[39m\u001b[39m.\u001b[39m_meta_array)\n\u001b[0;32m-> 1800\u001b[0m     check_array_shape(\u001b[39m'\u001b[39;49m\u001b[39mvalue\u001b[39;49m\u001b[39m'\u001b[39;49m, value, sel_shape)\n\u001b[1;32m   1802\u001b[0m \u001b[39m# iterate over chunks in range\u001b[39;00m\n\u001b[1;32m   1803\u001b[0m \u001b[39mif\u001b[39;00m \u001b[39mnot\u001b[39;00m \u001b[39mhasattr\u001b[39m(\u001b[39mself\u001b[39m\u001b[39m.\u001b[39mstore, \u001b[39m\"\u001b[39m\u001b[39msetitems\u001b[39m\u001b[39m\"\u001b[39m) \u001b[39mor\u001b[39;00m \u001b[39mself\u001b[39m\u001b[39m.\u001b[39m_synchronizer \u001b[39mis\u001b[39;00m \u001b[39mnot\u001b[39;00m \u001b[39mNone\u001b[39;00m \\\n\u001b[1;32m   1804\u001b[0m    \u001b[39mor\u001b[39;00m \u001b[39many\u001b[39m(\u001b[39mmap\u001b[39m(\u001b[39mlambda\u001b[39;00m x: x \u001b[39m==\u001b[39m \u001b[39m0\u001b[39m, \u001b[39mself\u001b[39m\u001b[39m.\u001b[39mshape)):\n\u001b[1;32m   1805\u001b[0m     \u001b[39m# iterative approach\u001b[39;00m\n",
      "File \u001b[0;32m~/Documents/projects/ml4paleo/.venv/lib/python3.9/site-packages/zarr/util.py:546\u001b[0m, in \u001b[0;36mcheck_array_shape\u001b[0;34m(param, array, shape)\u001b[0m\n\u001b[1;32m    543\u001b[0m     \u001b[39mraise\u001b[39;00m \u001b[39mTypeError\u001b[39;00m(\u001b[39m'\u001b[39m\u001b[39mparameter \u001b[39m\u001b[39m{!r}\u001b[39;00m\u001b[39m: expected an array-like object, got \u001b[39m\u001b[39m{!r}\u001b[39;00m\u001b[39m'\u001b[39m\n\u001b[1;32m    544\u001b[0m                     \u001b[39m.\u001b[39mformat(param, \u001b[39mtype\u001b[39m(array)))\n\u001b[1;32m    545\u001b[0m \u001b[39mif\u001b[39;00m array\u001b[39m.\u001b[39mshape \u001b[39m!=\u001b[39m shape:\n\u001b[0;32m--> 546\u001b[0m     \u001b[39mraise\u001b[39;00m \u001b[39mValueError\u001b[39;00m(\u001b[39m'\u001b[39m\u001b[39mparameter \u001b[39m\u001b[39m{!r}\u001b[39;00m\u001b[39m: expected array with shape \u001b[39m\u001b[39m{!r}\u001b[39;00m\u001b[39m, got \u001b[39m\u001b[39m{!r}\u001b[39;00m\u001b[39m'\u001b[39m\n\u001b[1;32m    547\u001b[0m                      \u001b[39m.\u001b[39mformat(param, shape, array\u001b[39m.\u001b[39mshape))\n",
      "\u001b[0;31mValueError\u001b[0m: parameter 'value': expected array with shape (631, 842, 19), got (631, 842, 20)"
     ]
    }
   ],
   "source": [
    "Z_CHUNK = 128\n",
    "\n",
    "for z_start in tqdm.tqdm(range(0, seg_stack.shape[2], Z_CHUNK)):    \n",
    "    z_max_chunk = min(z_start + Z_CHUNK, seg_stack.shape[2])\n",
    "    # stack = seg_stack[:, :, z_start:z_max_chunk][::4, ::4, ::4][:,:-1,:]\n",
    "    big_stack = seg_stack[:, :, z_start:z_max_chunk]\n",
    "    stack = big_stack[::4, ::4, ::4][:,:-1,:]\n",
    "    downsized_z_start = int(z_start / 4)\n",
    "    downsized_z_max_chunk = stack.shape[2] + downsized_z_start\n",
    "    # binarize the segmentation\n",
    "    stack[stack <= 200] = 1\n",
    "    stack[stack > 200] = 0\n",
    "    seg_zarr_file[:, :, downsized_z_start:downsized_z_max_chunk] = stack\n"
   ]
  },
  {
   "cell_type": "code",
   "execution_count": null,
   "metadata": {},
   "outputs": [],
   "source": []
  }
 ],
 "metadata": {
  "kernelspec": {
   "display_name": ".venv",
   "language": "python",
   "name": "python3"
  },
  "language_info": {
   "codemirror_mode": {
    "name": "ipython",
    "version": 3
   },
   "file_extension": ".py",
   "mimetype": "text/x-python",
   "name": "python",
   "nbconvert_exporter": "python",
   "pygments_lexer": "ipython3",
   "version": "3.9.7"
  },
  "orig_nbformat": 4,
  "vscode": {
   "interpreter": {
    "hash": "d19de0df0c2088788779103eea7e2a9044f7137bd0e8c0fa123dd48f73c4284f"
   }
  }
 },
 "nbformat": 4,
 "nbformat_minor": 2
}
