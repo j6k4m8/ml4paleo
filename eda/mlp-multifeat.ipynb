{
 "cells": [
  {
   "cell_type": "code",
   "execution_count": null,
   "metadata": {},
   "outputs": [],
   "source": [
    "# Install ml4paleo by running `poetry install` in the top level directory."
   ]
  },
  {
   "cell_type": "code",
   "execution_count": 3,
   "metadata": {},
   "outputs": [],
   "source": [
    "from ml4paleo.segmentation import Segmenter3D\n",
    "from ml4paleo.segmentation.rf import _default_features_func, RandomForest3DSegmenter"
   ]
  },
  {
   "cell_type": "code",
   "execution_count": 7,
   "metadata": {},
   "outputs": [],
   "source": [
    "# A torch MLP that uses the same _default_features_func\n",
    "import torch.nn as nn\n",
    "import torch.nn.functional as F"
   ]
  },
  {
   "cell_type": "code",
   "execution_count": 8,
   "metadata": {},
   "outputs": [
    {
     "ename": "SyntaxError",
     "evalue": "invalid syntax (650708385.py, line 29)",
     "output_type": "error",
     "traceback": [
      "\u001b[0;36m  Cell \u001b[0;32mIn[8], line 29\u001b[0;36m\u001b[0m\n\u001b[0;31m    self.model =\u001b[0m\n\u001b[0m                 ^\u001b[0m\n\u001b[0;31mSyntaxError\u001b[0m\u001b[0;31m:\u001b[0m invalid syntax\n"
     ]
    }
   ],
   "source": [
    "from typing import Callable, Optional\n",
    "import numpy as np\n",
    "\n",
    "\n",
    "class MLP(nn.Module):\n",
    "    def __init__(self, num_in_feats: int, num_classes: int, hidden_counts=[64]):\n",
    "        self.num_in_feats = num_in_feats\n",
    "        self.num_classes = num_classes\n",
    "\n",
    "        layer_counts = [num_in_feats, *hidden_counts, num_classes]\n",
    "\n",
    "        self.seq = nn.Sequential()\n",
    "        for i in range(len(layer_counts) - 1):\n",
    "            self.seq.add_module(\n",
    "                f\"linear_{i}\", nn.Linear(layer_counts[i], layer_counts[i + 1])\n",
    "            )\n",
    "            if i < len(layer_counts) - 2:\n",
    "                self.seq.add_module(f\"relu_{i}\", nn.ReLU())\n",
    "\n",
    "    def forward(self, x):\n",
    "        return self.seq(x)\n",
    "\n",
    "\n",
    "class MLPMultiscaleSegmenter(Segmenter3D):\n",
    "    def __init__(self, features_fn: Optional[Callable] = None):\n",
    "        if features_fn is None:\n",
    "            features_fn = _default_features_func\n",
    "        self._create_from_features_fn(features_fn)\n",
    "\n",
    "    def _create_from_features_fn(self, features_fn: Callable):\n",
    "        self._features_fn = features_fn\n",
    "        self._model = MLP(\n",
    "            num_in_feats=features_fn(np.zeros((1, 1, 1, 1))).shape[1], num_classes=2\n",
    "        )\n",
    "\n",
    "    def fit(self, X: np.ndarray, y: np.ndarray) -> None:\n",
    "        pass\n",
    "\n",
    "    def segment(self, volume: np.ndarray) -> np.ndarray:\n",
    "        pass\n",
    "\n",
    "    def save(self, path: str) -> None:\n",
    "        pass\n",
    "\n",
    "    @classmethod\n",
    "    def load(cls, path: str) -> \"MLPMultiscaleSegmenter\":\n",
    "        pass\n"
   ]
  },
  {
   "cell_type": "code",
   "execution_count": null,
   "metadata": {},
   "outputs": [],
   "source": []
  }
 ],
 "metadata": {
  "kernelspec": {
   "display_name": ".venv",
   "language": "python",
   "name": "python3"
  },
  "language_info": {
   "codemirror_mode": {
    "name": "ipython",
    "version": 3
   },
   "file_extension": ".py",
   "mimetype": "text/x-python",
   "name": "python",
   "nbconvert_exporter": "python",
   "pygments_lexer": "ipython3",
   "version": "3.9.7"
  },
  "orig_nbformat": 4,
  "vscode": {
   "interpreter": {
    "hash": "d19de0df0c2088788779103eea7e2a9044f7137bd0e8c0fa123dd48f73c4284f"
   }
  }
 },
 "nbformat": 4,
 "nbformat_minor": 2
}
