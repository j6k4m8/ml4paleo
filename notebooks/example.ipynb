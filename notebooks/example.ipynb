{
 "cells": [
  {
   "cell_type": "code",
   "execution_count": 1,
   "metadata": {},
   "outputs": [],
   "source": [
    "# An example workflow using ml4paleo in a Jupyter notebook"
   ]
  },
  {
   "cell_type": "code",
   "execution_count": 2,
   "metadata": {},
   "outputs": [],
   "source": [
    "import pathlib\n",
    "import numpy as np\n",
    "from intern.utils.parallel import block_compute\n",
    "import matplotlib.pyplot as plt\n",
    "from joblib import Parallel, delayed\n",
    "import tqdm\n",
    "\n",
    "from ml4paleo.volume_providers import ImageStackVolumeProvider\n",
    "from ml4paleo.volume_providers.io import export_zarr_array"
   ]
  },
  {
   "cell_type": "code",
   "execution_count": null,
   "metadata": {},
   "outputs": [],
   "source": [
    "PATH_TO_IMAGE_STACK = pathlib.Path('data/image_stack')\n",
    "IMAGE_GLOB = '*.tif'\n",
    "\n",
    "PATH_TO_ZARR = pathlib.Path('data/zarr')\n",
    "PATH_TO_ZARR.mkdir(exist_ok=True)"
   ]
  }
 ],
 "metadata": {
  "kernelspec": {
   "display_name": ".venv",
   "language": "python",
   "name": "python3"
  },
  "language_info": {
   "codemirror_mode": {
    "name": "ipython",
    "version": 3
   },
   "file_extension": ".py",
   "mimetype": "text/x-python",
   "name": "python",
   "nbconvert_exporter": "python",
   "pygments_lexer": "ipython3",
   "version": "3.9.7"
  },
  "orig_nbformat": 4,
  "vscode": {
   "interpreter": {
    "hash": "d19de0df0c2088788779103eea7e2a9044f7137bd0e8c0fa123dd48f73c4284f"
   }
  }
 },
 "nbformat": 4,
 "nbformat_minor": 2
}
