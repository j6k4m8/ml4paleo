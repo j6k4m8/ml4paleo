{
 "cells": [
  {
   "cell_type": "code",
   "execution_count": 1,
   "metadata": {},
   "outputs": [],
   "source": [
    "# Convert image stacks to zarr\n",
    "import pathlib\n",
    "\n",
    "import zarr\n",
    "from ml4paleo.volume_providers import ImageStackVolumeProvider\n",
    "import tqdm\n",
    "from numcodecs import Blosc"
   ]
  },
  {
   "cell_type": "code",
   "execution_count": 5,
   "metadata": {},
   "outputs": [],
   "source": [
    "image_path = pathlib.Path(\n",
    "    \"/Users/mateljk1/Documents/resources/data/paleo/Pterosaur slices/Araripesaurus\"\n",
    ")\n",
    "zarr_path = pathlib.Path(\"../data/Araripesaurus.zarr\")\n",
    "image_stack = ImageStackVolumeProvider(image_path, \"**/*.jp2\")\n"
   ]
  },
  {
   "cell_type": "code",
   "execution_count": 6,
   "metadata": {},
   "outputs": [
    {
     "data": {
      "text/plain": [
       "(dtype('uint16'), (3048, 2881, 9022))"
      ]
     },
     "execution_count": 6,
     "metadata": {},
     "output_type": "execute_result"
    }
   ],
   "source": [
    "image_stack[:,:,0].dtype, image_stack.shape"
   ]
  },
  {
   "cell_type": "code",
   "execution_count": 8,
   "metadata": {},
   "outputs": [
    {
     "name": "stderr",
     "output_type": "stream",
     "text": [
      "  8%|▊         | 46/564 [14:58<2:48:40, 19.54s/it]\n"
     ]
    },
    {
     "ename": "KeyboardInterrupt",
     "evalue": "",
     "output_type": "error",
     "traceback": [
      "\u001b[0;31m---------------------------------------------------------------------------\u001b[0m",
      "\u001b[0;31mKeyboardInterrupt\u001b[0m                         Traceback (most recent call last)",
      "Cell \u001b[0;32mIn[8], line 14\u001b[0m\n\u001b[1;32m     11\u001b[0m BACKGROUND_THRESHOLD \u001b[39m=\u001b[39m \u001b[39m6000\u001b[39m\n\u001b[1;32m     13\u001b[0m \u001b[39mfor\u001b[39;00m z_start \u001b[39min\u001b[39;00m tqdm\u001b[39m.\u001b[39mtqdm(\u001b[39mrange\u001b[39m(\u001b[39m0\u001b[39m, image_stack\u001b[39m.\u001b[39mshape[\u001b[39m2\u001b[39m], Z_CHUNK)):\n\u001b[0;32m---> 14\u001b[0m     stack \u001b[39m=\u001b[39m image_stack[:, :, z_start : z_start \u001b[39m+\u001b[39;49m Z_CHUNK]\n\u001b[1;32m     15\u001b[0m     stack[stack \u001b[39m<\u001b[39m BACKGROUND_THRESHOLD] \u001b[39m=\u001b[39m \u001b[39m0\u001b[39m\n\u001b[1;32m     16\u001b[0m     new_zarr_file[:, :, z_start : z_start \u001b[39m+\u001b[39m Z_CHUNK] \u001b[39m=\u001b[39m stack\n",
      "File \u001b[0;32m~/Documents/projects/ml4paleo/ml4paleo/volume_providers.py:256\u001b[0m, in \u001b[0;36mImageStackVolumeProvider.__getitem__\u001b[0;34m(self, key)\u001b[0m\n\u001b[1;32m    253\u001b[0m zs, ys, xs \u001b[39m=\u001b[39m _normalize_key(key, \u001b[39mself\u001b[39m\u001b[39m.\u001b[39mshape)\n\u001b[1;32m    255\u001b[0m \u001b[39m# Read the images.\u001b[39;00m\n\u001b[0;32m--> 256\u001b[0m images \u001b[39m=\u001b[39m [\u001b[39mself\u001b[39m\u001b[39m.\u001b[39m_read_image(\u001b[39mself\u001b[39m\u001b[39m.\u001b[39mpaths[z]) \u001b[39mfor\u001b[39;00m z \u001b[39min\u001b[39;00m \u001b[39mrange\u001b[39m(zs[\u001b[39m0\u001b[39m], zs[\u001b[39m1\u001b[39m])]\n\u001b[1;32m    258\u001b[0m \u001b[39m# Return the subvolume.\u001b[39;00m\n\u001b[1;32m    259\u001b[0m vol \u001b[39m=\u001b[39m np\u001b[39m.\u001b[39mstack(images, axis\u001b[39m=\u001b[39m\u001b[39m-\u001b[39m\u001b[39m1\u001b[39m)\n",
      "File \u001b[0;32m~/Documents/projects/ml4paleo/ml4paleo/volume_providers.py:256\u001b[0m, in \u001b[0;36m<listcomp>\u001b[0;34m(.0)\u001b[0m\n\u001b[1;32m    253\u001b[0m zs, ys, xs \u001b[39m=\u001b[39m _normalize_key(key, \u001b[39mself\u001b[39m\u001b[39m.\u001b[39mshape)\n\u001b[1;32m    255\u001b[0m \u001b[39m# Read the images.\u001b[39;00m\n\u001b[0;32m--> 256\u001b[0m images \u001b[39m=\u001b[39m [\u001b[39mself\u001b[39;49m\u001b[39m.\u001b[39;49m_read_image(\u001b[39mself\u001b[39;49m\u001b[39m.\u001b[39;49mpaths[z]) \u001b[39mfor\u001b[39;00m z \u001b[39min\u001b[39;00m \u001b[39mrange\u001b[39m(zs[\u001b[39m0\u001b[39m], zs[\u001b[39m1\u001b[39m])]\n\u001b[1;32m    258\u001b[0m \u001b[39m# Return the subvolume.\u001b[39;00m\n\u001b[1;32m    259\u001b[0m vol \u001b[39m=\u001b[39m np\u001b[39m.\u001b[39mstack(images, axis\u001b[39m=\u001b[39m\u001b[39m-\u001b[39m\u001b[39m1\u001b[39m)\n",
      "File \u001b[0;32m~/Documents/projects/ml4paleo/ml4paleo/volume_providers.py:233\u001b[0m, in \u001b[0;36mImageStackVolumeProvider._read_image\u001b[0;34m(self, path)\u001b[0m\n\u001b[1;32m    222\u001b[0m \u001b[39mdef\u001b[39;00m \u001b[39m_read_image\u001b[39m(\u001b[39mself\u001b[39m, path: pathlib\u001b[39m.\u001b[39mPath) \u001b[39m-\u001b[39m\u001b[39m>\u001b[39m np\u001b[39m.\u001b[39mndarray:\n\u001b[1;32m    223\u001b[0m \u001b[39m    \u001b[39m\u001b[39m\"\"\"\u001b[39;00m\n\u001b[1;32m    224\u001b[0m \u001b[39m    Read an image from disk.\u001b[39;00m\n\u001b[1;32m    225\u001b[0m \n\u001b[0;32m   (...)\u001b[0m\n\u001b[1;32m    231\u001b[0m \n\u001b[1;32m    232\u001b[0m \u001b[39m    \"\"\"\u001b[39;00m\n\u001b[0;32m--> 233\u001b[0m     \u001b[39mreturn\u001b[39;00m np\u001b[39m.\u001b[39;49marray(Image\u001b[39m.\u001b[39;49mopen(path))\n",
      "File \u001b[0;32m~/Documents/projects/ml4paleo/.venv/lib/python3.9/site-packages/PIL/Image.py:701\u001b[0m, in \u001b[0;36mImage.__array_interface__\u001b[0;34m(self)\u001b[0m\n\u001b[1;32m    699\u001b[0m         new[\u001b[39m\"\u001b[39m\u001b[39mdata\u001b[39m\u001b[39m\"\u001b[39m] \u001b[39m=\u001b[39m \u001b[39mself\u001b[39m\u001b[39m.\u001b[39mtobytes(\u001b[39m\"\u001b[39m\u001b[39mraw\u001b[39m\u001b[39m\"\u001b[39m, \u001b[39m\"\u001b[39m\u001b[39mL\u001b[39m\u001b[39m\"\u001b[39m)\n\u001b[1;32m    700\u001b[0m     \u001b[39melse\u001b[39;00m:\n\u001b[0;32m--> 701\u001b[0m         new[\u001b[39m\"\u001b[39m\u001b[39mdata\u001b[39m\u001b[39m\"\u001b[39m] \u001b[39m=\u001b[39m \u001b[39mself\u001b[39;49m\u001b[39m.\u001b[39;49mtobytes()\n\u001b[1;32m    702\u001b[0m \u001b[39mexcept\u001b[39;00m \u001b[39mException\u001b[39;00m \u001b[39mas\u001b[39;00m e:\n\u001b[1;32m    703\u001b[0m     \u001b[39mif\u001b[39;00m \u001b[39mnot\u001b[39;00m \u001b[39misinstance\u001b[39m(e, (\u001b[39mMemoryError\u001b[39;00m, \u001b[39mRecursionError\u001b[39;00m)):\n",
      "File \u001b[0;32m~/Documents/projects/ml4paleo/.venv/lib/python3.9/site-packages/PIL/Image.py:758\u001b[0m, in \u001b[0;36mImage.tobytes\u001b[0;34m(self, encoder_name, *args)\u001b[0m\n\u001b[1;32m    755\u001b[0m \u001b[39mif\u001b[39;00m encoder_name \u001b[39m==\u001b[39m \u001b[39m\"\u001b[39m\u001b[39mraw\u001b[39m\u001b[39m\"\u001b[39m \u001b[39mand\u001b[39;00m args \u001b[39m==\u001b[39m ():\n\u001b[1;32m    756\u001b[0m     args \u001b[39m=\u001b[39m \u001b[39mself\u001b[39m\u001b[39m.\u001b[39mmode\n\u001b[0;32m--> 758\u001b[0m \u001b[39mself\u001b[39;49m\u001b[39m.\u001b[39;49mload()\n\u001b[1;32m    760\u001b[0m \u001b[39mif\u001b[39;00m \u001b[39mself\u001b[39m\u001b[39m.\u001b[39mwidth \u001b[39m==\u001b[39m \u001b[39m0\u001b[39m \u001b[39mor\u001b[39;00m \u001b[39mself\u001b[39m\u001b[39m.\u001b[39mheight \u001b[39m==\u001b[39m \u001b[39m0\u001b[39m:\n\u001b[1;32m    761\u001b[0m     \u001b[39mreturn\u001b[39;00m \u001b[39mb\u001b[39m\u001b[39m\"\u001b[39m\u001b[39m\"\u001b[39m\n",
      "File \u001b[0;32m~/Documents/projects/ml4paleo/.venv/lib/python3.9/site-packages/PIL/Jpeg2KImagePlugin.py:282\u001b[0m, in \u001b[0;36mJpeg2KImageFile.load\u001b[0;34m(self)\u001b[0m\n\u001b[1;32m    279\u001b[0m     t3 \u001b[39m=\u001b[39m (t[\u001b[39m3\u001b[39m][\u001b[39m0\u001b[39m], \u001b[39mself\u001b[39m\u001b[39m.\u001b[39m_reduce, \u001b[39mself\u001b[39m\u001b[39m.\u001b[39mlayers, t[\u001b[39m3\u001b[39m][\u001b[39m3\u001b[39m], t[\u001b[39m3\u001b[39m][\u001b[39m4\u001b[39m])\n\u001b[1;32m    280\u001b[0m     \u001b[39mself\u001b[39m\u001b[39m.\u001b[39mtile \u001b[39m=\u001b[39m [(t[\u001b[39m0\u001b[39m], (\u001b[39m0\u001b[39m, \u001b[39m0\u001b[39m) \u001b[39m+\u001b[39m \u001b[39mself\u001b[39m\u001b[39m.\u001b[39msize, t[\u001b[39m2\u001b[39m], t3)]\n\u001b[0;32m--> 282\u001b[0m \u001b[39mreturn\u001b[39;00m ImageFile\u001b[39m.\u001b[39;49mImageFile\u001b[39m.\u001b[39;49mload(\u001b[39mself\u001b[39;49m)\n",
      "File \u001b[0;32m~/Documents/projects/ml4paleo/.venv/lib/python3.9/site-packages/PIL/ImageFile.py:244\u001b[0m, in \u001b[0;36mImageFile.load\u001b[0;34m(self)\u001b[0m\n\u001b[1;32m    242\u001b[0m \u001b[39mif\u001b[39;00m decoder\u001b[39m.\u001b[39mpulls_fd:\n\u001b[1;32m    243\u001b[0m     decoder\u001b[39m.\u001b[39msetfd(\u001b[39mself\u001b[39m\u001b[39m.\u001b[39mfp)\n\u001b[0;32m--> 244\u001b[0m     err_code \u001b[39m=\u001b[39m decoder\u001b[39m.\u001b[39;49mdecode(\u001b[39mb\u001b[39;49m\u001b[39m\"\u001b[39;49m\u001b[39m\"\u001b[39;49m)[\u001b[39m1\u001b[39m]\n\u001b[1;32m    245\u001b[0m \u001b[39melse\u001b[39;00m:\n\u001b[1;32m    246\u001b[0m     b \u001b[39m=\u001b[39m prefix\n",
      "\u001b[0;31mKeyboardInterrupt\u001b[0m: "
     ]
    }
   ],
   "source": [
    "new_zarr_file = zarr.open(\n",
    "    str(zarr_path),\n",
    "    mode=\"w\",\n",
    "    shape=image_stack.shape,\n",
    "    chunks=(64, 64, 64),\n",
    "    dtype=\"uint16\",\n",
    "    compressor=Blosc()\n",
    ")\n",
    "\n",
    "Z_CHUNK = 16\n",
    "BACKGROUND_THRESHOLD = 6000\n",
    "\n",
    "for z_start in tqdm.tqdm(range(0, image_stack.shape[2], Z_CHUNK)):\n",
    "    stack = image_stack[:, :, z_start : z_start + Z_CHUNK]\n",
    "    stack[stack < BACKGROUND_THRESHOLD] = 0\n",
    "    new_zarr_file[:, :, z_start : z_start + Z_CHUNK] = stack\n"
   ]
  },
  {
   "cell_type": "code",
   "execution_count": null,
   "metadata": {},
   "outputs": [],
   "source": []
  }
 ],
 "metadata": {
  "kernelspec": {
   "display_name": ".venv",
   "language": "python",
   "name": "python3"
  },
  "language_info": {
   "codemirror_mode": {
    "name": "ipython",
    "version": 3
   },
   "file_extension": ".py",
   "mimetype": "text/x-python",
   "name": "python",
   "nbconvert_exporter": "python",
   "pygments_lexer": "ipython3",
   "version": "3.9.7"
  },
  "orig_nbformat": 4,
  "vscode": {
   "interpreter": {
    "hash": "d19de0df0c2088788779103eea7e2a9044f7137bd0e8c0fa123dd48f73c4284f"
   }
  }
 },
 "nbformat": 4,
 "nbformat_minor": 2
}
