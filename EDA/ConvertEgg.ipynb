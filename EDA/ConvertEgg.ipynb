{
 "cells": [
  {
   "cell_type": "code",
   "execution_count": null,
   "metadata": {},
   "outputs": [],
   "source": [
    "from ml4paleo.volume_providers import ImageStackVolumeProvider\n",
    "from ml4paleo.volume_providers.io import export_zarr_array\n",
    "import zarr\n",
    "\n",
    "import pathlib\n",
    "\n",
    "IMG1 = \"/Users/mateljk1/Documents/projects/ml4paleo/data/raw_stacks/Phu Phok Egg/Slices/Phu_phok_egg_SK1-1_5.06micron_jpeg2000-10_\"\n",
    "SEG1 = \"/Users/mateljk1/Documents/projects/ml4paleo/data/raw_stacks/Phu Phok Egg/Segmentation/Phu_phok_egg_embryos_SK1-1_5.06micron_jpeg2000-10_\"\n",
    "\n",
    "IMG2 = \"/Users/mateljk1/Documents/projects/ml4paleo/data/raw_stacks/Phu Phok Egg/Slices/Phu_phok_egg_SK1-2_5.06micron_jpeg2000-10_\"\n",
    "SEG2 = \"/Users/mateljk1/Documents/projects/ml4paleo/data/raw_stacks/Phu Phok Egg/Segmentation/Phu_phok_egg_embryos_SK1-2_5.06micron_jpeg2000-10_\"\n",
    "\n",
    "THRESH = 250\n",
    "binarize_lambda = lambda x: x < THRESH\n",
    "\n",
    "import numpy as np\n"
   ]
  },
  {
   "cell_type": "code",
   "execution_count": null,
   "metadata": {},
   "outputs": [],
   "source": [
    "stack_img1 = ImageStackVolumeProvider(pathlib.Path(IMG1), \"*\", cache_size=99)\n",
    "stack_img2 = ImageStackVolumeProvider(pathlib.Path(IMG2), \"*\", cache_size=99)\n",
    "stack_seg1 = ImageStackVolumeProvider(pathlib.Path(SEG1), \"*\", cache_size=99)\n",
    "stack_seg2 = ImageStackVolumeProvider(pathlib.Path(SEG2), \"*\", cache_size=99)\n",
    "\n",
    "print(\"img1\", stack_img1.shape)\n",
    "print(\"seg1\", stack_seg1.shape)\n",
    "print()\n",
    "print(\"img2\", stack_img2.shape)\n",
    "print(\"seg2\", stack_seg2.shape)\n",
    "print()\n",
    "print(\"img - seg\", (\n",
    "    stack_img1.shape[0] - stack_seg1.shape[0],\n",
    "    stack_img1.shape[1] - stack_seg1.shape[1],\n",
    "    stack_img1.shape[2] - stack_seg1.shape[2],\n",
    "))\n",
    "print(\"img - seg\", (\n",
    "    stack_img2.shape[0] - stack_seg2.shape[0],\n",
    "    stack_img2.shape[1] - stack_seg2.shape[1],\n",
    "    stack_img2.shape[2] - stack_seg2.shape[2],\n",
    "))"
   ]
  },
  {
   "cell_type": "code",
   "execution_count": 3,
   "metadata": {},
   "outputs": [
    {
     "name": "stderr",
     "output_type": "stream",
     "text": [
      "100%|██████████| 15/15 [39:31<00:00, 158.09s/it]\n",
      "100%|██████████| 12/12 [13:58<00:00, 69.87s/it]\n"
     ]
    },
    {
     "data": {
      "text/plain": [
       "<zarr.core.Array (1948, 1395, 2890) uint8>"
      ]
     },
     "execution_count": 3,
     "metadata": {},
     "output_type": "execute_result"
    }
   ],
   "source": [
    "from numcodecs import Blosc\n",
    "\n",
    "export_zarr_array(\n",
    "    ImageStackVolumeProvider(pathlib.Path(IMG1), \"*\"),\n",
    "    \"SK1-1.zarr\",\n",
    "    slice_count=256,\n",
    "    progress=True,\n",
    "    parallel=8,\n",
    "    compression=Blosc(cname=\"zstd\", clevel=9, shuffle=Blosc.BITSHUFFLE),\n",
    ")\n",
    "export_zarr_array(\n",
    "    ImageStackVolumeProvider(pathlib.Path(IMG2), \"*\"),\n",
    "    \"SK1-2.zarr\",\n",
    "    slice_count=256,\n",
    "    progress=True,\n",
    "    parallel=8,\n",
    "    compression=Blosc(cname=\"zstd\", clevel=9, shuffle=Blosc.BITSHUFFLE),\n",
    ")\n",
    "\n",
    "export_zarr_array(\n",
    "    ImageStackVolumeProvider(pathlib.Path(SEG1), \"*\"),\n",
    "    \"SK1-1-seg.zarr\",\n",
    "    slice_count=256,\n",
    "    progress=True,\n",
    "    parallel=8,\n",
    "    compression=Blosc(cname=\"zstd\", clevel=9, shuffle=Blosc.BITSHUFFLE),\n",
    ")\n",
    "# export_zarr_array(\n",
    "#     ImageStackVolumeProvider(pathlib.Path(SEG2), \"*\"),\n",
    "#     \"SK1-2-seg.zarr\",\n",
    "#     slice_count=8,\n",
    "#     dtype=bool,\n",
    "#     progress=True,\n",
    "# )\n"
   ]
  },
  {
   "cell_type": "code",
   "execution_count": null,
   "metadata": {},
   "outputs": [],
   "source": [
    "import matplotlib.pyplot as plt"
   ]
  },
  {
   "cell_type": "code",
   "execution_count": null,
   "metadata": {},
   "outputs": [],
   "source": [
    "plt.hist(ImageStackVolumeProvider(pathlib.Path(IMG1), \"*\")[:,:,100].flatten())"
   ]
  },
  {
   "cell_type": "code",
   "execution_count": null,
   "metadata": {},
   "outputs": [],
   "source": [
    "ImageStackVolumeProvider(pathlib.Path(IMG1), \"*\").dtype"
   ]
  },
  {
   "cell_type": "code",
   "execution_count": null,
   "metadata": {},
   "outputs": [],
   "source": []
  }
 ],
 "metadata": {
  "kernelspec": {
   "display_name": "scripting",
   "language": "python",
   "name": "python3"
  },
  "language_info": {
   "codemirror_mode": {
    "name": "ipython",
    "version": 3
   },
   "file_extension": ".py",
   "mimetype": "text/x-python",
   "name": "python",
   "nbconvert_exporter": "python",
   "pygments_lexer": "ipython3",
   "version": "3.9.7"
  },
  "orig_nbformat": 4,
  "vscode": {
   "interpreter": {
    "hash": "410f6db90cc89b666adbd1b755ae7555dd227a2d7c11822f3d377845b87672a4"
   }
  }
 },
 "nbformat": 4,
 "nbformat_minor": 2
}
